{
 "cells": [
  {
   "cell_type": "code",
   "execution_count": 6,
   "id": "c8397117",
   "metadata": {},
   "outputs": [
    {
     "name": "stdout",
     "output_type": "stream",
     "text": [
      "Defaulting to user installation because normal site-packages is not writeable\n",
      "Requirement already satisfied: scikit-learn in c:\\users\\asus\\appdata\\roaming\\python\\python312\\site-packages (1.5.1)\n",
      "Requirement already satisfied: numpy>=1.19.5 in c:\\users\\asus\\appdata\\roaming\\python\\python312\\site-packages (from scikit-learn) (1.26.4)\n",
      "Requirement already satisfied: scipy>=1.6.0 in c:\\users\\asus\\appdata\\roaming\\python\\python312\\site-packages (from scikit-learn) (1.14.0)\n",
      "Requirement already satisfied: joblib>=1.2.0 in c:\\users\\asus\\appdata\\roaming\\python\\python312\\site-packages (from scikit-learn) (1.4.2)\n",
      "Requirement already satisfied: threadpoolctl>=3.1.0 in c:\\users\\asus\\appdata\\roaming\\python\\python312\\site-packages (from scikit-learn) (3.5.0)\n"
     ]
    }
   ],
   "source": [
    "!pip install scikit-learn"
   ]
  },
  {
   "cell_type": "code",
   "execution_count": 7,
   "id": "09829a51",
   "metadata": {},
   "outputs": [
    {
     "name": "stdout",
     "output_type": "stream",
     "text": [
      "Defaulting to user installation because normal site-packages is not writeable\n",
      "Requirement already satisfied: pip in c:\\users\\asus\\appdata\\roaming\\python\\python312\\site-packages (24.3.1)\n"
     ]
    }
   ],
   "source": [
    "!python.exe -m pip install --upgrade pip"
   ]
  },
  {
   "cell_type": "code",
   "execution_count": 8,
   "id": "de503344",
   "metadata": {},
   "outputs": [
    {
     "name": "stdout",
     "output_type": "stream",
     "text": [
      "Defaulting to user installation because normal site-packages is not writeable\n",
      "Looking in indexes: https://download.pytorch.org/whl/cu124\n",
      "Requirement already satisfied: torch in c:\\program files\\python312\\lib\\site-packages (2.5.1+cu124)\n",
      "Requirement already satisfied: torchvision in c:\\program files\\python312\\lib\\site-packages (0.20.1+cu124)\n",
      "Requirement already satisfied: torchaudio in c:\\program files\\python312\\lib\\site-packages (2.5.1+cu124)\n",
      "Requirement already satisfied: filelock in c:\\users\\asus\\appdata\\roaming\\python\\python312\\site-packages (from torch) (3.15.4)\n",
      "Requirement already satisfied: typing-extensions>=4.8.0 in c:\\users\\asus\\appdata\\roaming\\python\\python312\\site-packages (from torch) (4.12.2)\n",
      "Requirement already satisfied: networkx in c:\\users\\asus\\appdata\\roaming\\python\\python312\\site-packages (from torch) (3.3)\n",
      "Requirement already satisfied: jinja2 in c:\\users\\asus\\appdata\\roaming\\python\\python312\\site-packages (from torch) (3.1.4)\n",
      "Requirement already satisfied: fsspec in c:\\users\\asus\\appdata\\roaming\\python\\python312\\site-packages (from torch) (2024.6.1)\n",
      "Requirement already satisfied: setuptools in c:\\users\\asus\\appdata\\roaming\\python\\python312\\site-packages (from torch) (70.2.0)\n",
      "Requirement already satisfied: sympy==1.13.1 in c:\\users\\asus\\appdata\\roaming\\python\\python312\\site-packages (from torch) (1.13.1)\n",
      "Requirement already satisfied: mpmath<1.4,>=1.1.0 in c:\\users\\asus\\appdata\\roaming\\python\\python312\\site-packages (from sympy==1.13.1->torch) (1.3.0)\n",
      "Requirement already satisfied: numpy in c:\\users\\asus\\appdata\\roaming\\python\\python312\\site-packages (from torchvision) (1.26.4)\n",
      "Requirement already satisfied: pillow!=8.3.*,>=5.3.0 in c:\\users\\asus\\appdata\\roaming\\python\\python312\\site-packages (from torchvision) (10.4.0)\n",
      "Requirement already satisfied: MarkupSafe>=2.0 in c:\\users\\asus\\appdata\\roaming\\python\\python312\\site-packages (from jinja2->torch) (2.1.5)\n"
     ]
    }
   ],
   "source": [
    "!pip install torch torchvision torchaudio --index-url https://download.pytorch.org/whl/cu124"
   ]
  },
  {
   "cell_type": "code",
   "execution_count": 1,
   "id": "0b3b62dd-30c1-47c8-8d75-2c25a944fb3b",
   "metadata": {},
   "outputs": [],
   "source": [
    "import torch\n",
    "import torchvision\n",
    "from torchvision import datasets, models, transforms\n",
    "from torch.utils.data import DataLoader, random_split\n",
    "import torch.nn as nn\n",
    "import torch.optim as optim\n",
    "from sklearn.neighbors import KNeighborsClassifier\n",
    "from sklearn.svm import SVC\n",
    "from sklearn.metrics import classification_report, accuracy_score\n",
    "import numpy as np\n",
    "from PIL import Image\n",
    "import os\n",
    "from collections import Counter"
   ]
  },
  {
   "cell_type": "code",
   "execution_count": 10,
   "id": "f39fcf3c-40e0-4935-acfc-2354c197ed4a",
   "metadata": {},
   "outputs": [
    {
     "name": "stdout",
     "output_type": "stream",
     "text": [
      "cuda\n"
     ]
    }
   ],
   "source": [
    "# Set device\n",
    "device = torch.device('cuda' if torch.cuda.is_available() else 'cpu')\n",
    "print(device)"
   ]
  },
  {
   "cell_type": "code",
   "execution_count": 11,
   "id": "86c4b557-3bf3-4fe7-9841-c6136d0ffcdc",
   "metadata": {},
   "outputs": [],
   "source": [
    "\n",
    "# Define label mapping\n",
    "label_map = {\n",
    "    0: \"Chickenpox\",\n",
    "    1: \"Measles\",\n",
    "    2: \"Monkeypox\",\n",
    "    3: \"Normal\"\n",
    "}\n"
   ]
  },
  {
   "cell_type": "code",
   "execution_count": 12,
   "id": "e4c00f13-de57-4703-aff5-42c05423bf36",
   "metadata": {},
   "outputs": [],
   "source": [
    "# Data preprocessing\n",
    "root = \"data/\"\n",
    "data_transform = transforms.Compose([\n",
    "    transforms.Grayscale(num_output_channels=1),\n",
    "    transforms.Resize((64, 64)),\n",
    "    transforms.ToTensor()\n",
    "])"
   ]
  },
  {
   "cell_type": "code",
   "execution_count": 13,
   "id": "902ade74-c52a-4156-835c-d47325e91419",
   "metadata": {},
   "outputs": [
    {
     "name": "stdout",
     "output_type": "stream",
     "text": [
      "Class mapping: {'Chickenpox': 0, 'Measles': 1, 'Monkeypox': 2, 'Normal': 3}\n"
     ]
    }
   ],
   "source": [
    "# Load dataset\n",
    "dataset = datasets.ImageFolder(root, transform=data_transform)\n",
    "print(\"Class mapping:\", dataset.class_to_idx)"
   ]
  },
  {
   "cell_type": "code",
   "execution_count": 14,
   "id": "c5854b23-8a6a-4793-8f9f-51627dbcbc3a",
   "metadata": {},
   "outputs": [],
   "source": [
    "\n",
    "# Split the dataset\n",
    "train_size = int(0.7 * len(dataset))\n",
    "test_size = len(dataset) - train_size\n",
    "train_data, test_data = random_split(dataset, [train_size, test_size])"
   ]
  },
  {
   "cell_type": "code",
   "execution_count": 49,
   "id": "65983b25",
   "metadata": {},
   "outputs": [
    {
     "data": {
      "text/plain": [
       "64"
      ]
     },
     "execution_count": 49,
     "metadata": {},
     "output_type": "execute_result"
    }
   ],
   "source": [
    "len(train_data[0][0][0][0])"
   ]
  },
  {
   "cell_type": "code",
   "execution_count": 15,
   "id": "c3068277-8ad2-42e8-9f21-ec31c15b7b53",
   "metadata": {},
   "outputs": [],
   "source": [
    "# Data loaders\n",
    "train_loader = DataLoader(train_data, batch_size=20, shuffle=True)\n",
    "test_loader = DataLoader(test_data, batch_size=22, shuffle=False)\n",
    "\n"
   ]
  },
  {
   "cell_type": "code",
   "execution_count": 75,
   "id": "e3ed2d2a-9022-498d-bf73-bf06f0bbc88b",
   "metadata": {},
   "outputs": [
    {
     "name": "stdout",
     "output_type": "stream",
     "text": [
      "X_train shape: (1332, 4096)\n",
      "y_train shape: (1332,)\n"
     ]
    }
   ],
   "source": [
    "# Prepare data for KNN and SVM\n",
    "#def prepare_data(loader):\n",
    " #   features = []\n",
    "  #  labels = []\n",
    "   # for images, label in loader:\n",
    "    #    images = images.repeat(1, 3, 1, 1)  # Convert grayscale to 3 channels\n",
    "     #   features.append(images.view(images.size(0), -1).cpu().numpy())  # Flatten\n",
    "      #  labels.append(label.cpu().numpy())\n",
    "   # return np.vstack(features), np.concatenate(labels)\n",
    "\n",
    "#X_train, y_train = prepare_data(train_loader)\n",
    "#X_test, y_test = prepare_data(test_loader)\n",
    "# WHY IS DATA DIMENSION CHANING FROM 128 to 12228\n",
    "\n",
    "def prepare_data(loader):\n",
    "    features = []\n",
    "    labels = []\n",
    "    for images, label in loader:\n",
    "        # Ensure images are kept in grayscale format (1 channel) and resize to 64x64\n",
    "        images = images.squeeze(1)  # Remove the extra channel dimension if necessary\n",
    "        features.append(images.view(images.size(0), -1).cpu().numpy())  # Flatten to 4096 (64x64)\n",
    "        labels.append(label.cpu().numpy())\n",
    "    return np.vstack(features), np.concatenate(labels)\n",
    "\n",
    "X_train, y_train = prepare_data(train_loader)\n",
    "X_test, y_test = prepare_data(test_loader)\n",
    "\n",
    "# X_train and X_test are now flattened arrays of shape (num_samples, 4096)\n",
    "print(f\"X_train shape: {X_train.shape}\")  # Should be (num_samples, 4096)\n",
    "print(f\"y_train shape: {y_train.shape}\")  # Should be (num_samples,)"
   ]
  },
  {
   "cell_type": "code",
   "execution_count": 17,
   "id": "f07cc39e-06f1-4438-aef5-0cd29a5ac07f",
   "metadata": {},
   "outputs": [
    {
     "name": "stdout",
     "output_type": "stream",
     "text": [
      "KNN Classification Report:\n",
      "              precision    recall  f1-score   support\n",
      "\n",
      "  Chickenpox       0.33      0.58      0.42       115\n",
      "     Measles       0.29      0.38      0.33        98\n",
      "   Monkeypox       0.50      0.27      0.35       179\n",
      "      Normal       0.83      0.64      0.72       180\n",
      "\n",
      "    accuracy                           0.47       572\n",
      "   macro avg       0.49      0.47      0.46       572\n",
      "weighted avg       0.53      0.47      0.48       572\n",
      "\n",
      "KNN Accuracy: 0.47027972027972026\n"
     ]
    }
   ],
   "source": [
    "# KNN Classifier\n",
    "knn = KNeighborsClassifier(n_neighbors=5)\n",
    "knn.fit(X_train, y_train)\n",
    "knn_predictions = knn.predict(X_test)\n",
    "knn_accuracy = accuracy_score(y_test, knn_predictions)\n",
    "print(\"KNN Classification Report:\")\n",
    "print(classification_report(y_test, knn_predictions, target_names=label_map.values()))\n",
    "print(\"KNN Accuracy:\", knn_accuracy)"
   ]
  },
  {
   "cell_type": "code",
   "execution_count": 65,
   "id": "2f2caf57",
   "metadata": {},
   "outputs": [
    {
     "data": {
      "text/plain": [
       "4096"
      ]
     },
     "execution_count": 65,
     "metadata": {},
     "output_type": "execute_result"
    }
   ],
   "source": [
    "len(X_train[0])"
   ]
  },
  {
   "cell_type": "code",
   "execution_count": 18,
   "id": "c15c9234",
   "metadata": {},
   "outputs": [
    {
     "name": "stdout",
     "output_type": "stream",
     "text": [
      "CUDA is available. GPU detected!\n",
      "GPU Name: NVIDIA GeForce RTX 2050\n"
     ]
    }
   ],
   "source": [
    "import torch\n",
    "\n",
    "if torch.cuda.is_available():\n",
    "    print(\"CUDA is available. GPU detected!\")\n",
    "    print(f\"GPU Name: {torch.cuda.get_device_name(0)}\")\n",
    "else:\n",
    "    print(\"CUDA is not available. No GPU detected.\")\n"
   ]
  },
  {
   "cell_type": "code",
   "execution_count": 19,
   "id": "015fc740",
   "metadata": {},
   "outputs": [
    {
     "name": "stdout",
     "output_type": "stream",
     "text": [
      "Defaulting to user installation because normal site-packages is not writeable\n",
      "Requirement already satisfied: tqdm in c:\\users\\asus\\appdata\\roaming\\python\\python312\\site-packages (4.67.0)\n",
      "Requirement already satisfied: colorama in c:\\users\\asus\\appdata\\roaming\\python\\python312\\site-packages (from tqdm) (0.4.6)\n"
     ]
    }
   ],
   "source": [
    "!pip install tqdm"
   ]
  },
  {
   "cell_type": "code",
   "execution_count": 20,
   "id": "44efe96d-ea02-4d13-ba40-d7c29f91b54b",
   "metadata": {},
   "outputs": [
    {
     "name": "stderr",
     "output_type": "stream",
     "text": [
      "2024-12-04 11:26:21,200 - INFO - Initializing the SVM classifier with a linear kernel.\n",
      "2024-12-04 11:26:21,200 - INFO - Starting training of the SVM classifier.\n",
      "2024-12-04 11:28:02,649 - INFO - Training completed successfully.\n",
      "2024-12-04 11:28:02,649 - INFO - Starting prediction on the test set.\n",
      "2024-12-04 11:28:14,620 - INFO - Calculating accuracy and generating classification report.\n",
      "2024-12-04 11:28:14,620 - INFO - SVM Accuracy: 0.3269\n"
     ]
    },
    {
     "name": "stdout",
     "output_type": "stream",
     "text": [
      "SVM Classification Report:\n",
      "              precision    recall  f1-score   support\n",
      "\n",
      "  Chickenpox       0.26      0.39      0.31       115\n",
      "     Measles       0.20      0.24      0.22        98\n",
      "   Monkeypox       0.36      0.31      0.33       179\n",
      "      Normal       0.49      0.35      0.41       180\n",
      "\n",
      "    accuracy                           0.33       572\n",
      "   macro avg       0.33      0.32      0.32       572\n",
      "weighted avg       0.35      0.33      0.33       572\n",
      "\n",
      "SVM Accuracy: 0.3269\n"
     ]
    }
   ],
   "source": [
    "from sklearn.svm import SVC\n",
    "from sklearn.metrics import accuracy_score, classification_report\n",
    "import logging\n",
    "\n",
    "# Set up logging for debugging\n",
    "logging.basicConfig(level=logging.INFO, format='%(asctime)s - %(levelname)s - %(message)s')\n",
    "\n",
    "try:\n",
    "    # Initialize and train the SVM classifier\n",
    "    logging.info(\"Initializing the SVM classifier with a linear kernel.\")\n",
    "    svm = SVC(kernel='linear')\n",
    "    \n",
    "    logging.info(\"Starting training of the SVM classifier.\")\n",
    "    svm.fit(X_train, y_train)\n",
    "    logging.info(\"Training completed successfully.\")\n",
    "\n",
    "    # Make predictions on the test set\n",
    "    logging.info(\"Starting prediction on the test set.\")\n",
    "    svm_predictions = svm.predict(X_test)\n",
    "\n",
    "    # Calculate and display accuracy and classification report\n",
    "    svm_accuracy = accuracy_score(y_test, svm_predictions)\n",
    "    logging.info(\"Calculating accuracy and generating classification report.\")\n",
    "    print(\"SVM Classification Report:\")\n",
    "    print(classification_report(y_test, svm_predictions, target_names=label_map.values()))\n",
    "    print(f\"SVM Accuracy: {svm_accuracy:.4f}\")\n",
    "    logging.info(f\"SVM Accuracy: {svm_accuracy:.4f}\")\n",
    "\n",
    "except Exception as e:\n",
    "    logging.error(f\"An error occurred: {e}\")\n",
    "\n",
    "\n",
    "\n",
    "\n"
   ]
  },
  {
   "cell_type": "code",
   "execution_count": 21,
   "id": "b3303701",
   "metadata": {},
   "outputs": [
    {
     "name": "stderr",
     "output_type": "stream",
     "text": [
      "2024-12-04 11:28:14,637 - INFO - Initializing the SVM classifier with a linear kernel.\n",
      "2024-12-04 11:28:14,643 - INFO - Starting training of the SVM classifier.\n",
      "2024-12-04 11:29:00,943 - INFO - Training completed successfully.\n",
      "2024-12-04 11:29:00,943 - INFO - Saving the model to svm_model.joblib.\n",
      "2024-12-04 11:29:00,994 - INFO - Model saved successfully.\n"
     ]
    }
   ],
   "source": [
    "\n",
    "\n",
    "from sklearn.svm import SVC\n",
    "from sklearn.metrics import accuracy_score, classification_report\n",
    "import joblib\n",
    "import logging\n",
    "\n",
    "# Set up logging for debugging\n",
    "logging.basicConfig(level=logging.INFO, format='%(asctime)s - %(levelname)s - %(message)s')\n",
    "\n",
    "# Initialize and train the SVM classifier\n",
    "logging.info(\"Initializing the SVM classifier with a linear kernel.\")\n",
    "svm = SVC(kernel='linear')\n",
    "logging.info(\"Starting training of the SVM classifier.\")\n",
    "svm.fit(X_train, y_train)\n",
    "logging.info(\"Training completed successfully.\")\n",
    "\n",
    "# Save the trained model\n",
    "model_filename = 'svm_model.joblib'\n",
    "logging.info(f\"Saving the model to {model_filename}.\")\n",
    "joblib.dump(svm, model_filename)\n",
    "logging.info(\"Model saved successfully.\")\n",
    "\n"
   ]
  },
  {
   "cell_type": "code",
   "execution_count": 22,
   "id": "020ac476",
   "metadata": {},
   "outputs": [],
   "source": [
    "\n",
    "from torchvision.models import AlexNet_Weights\n",
    "\n",
    "model_ft = models.alexnet(weights=AlexNet_Weights.IMAGENET1K_V1)\n",
    "model_ft.classifier[6] = nn.Linear(4096, len(dataset.classes))\n",
    "model_ft = model_ft.to(device)\n"
   ]
  },
  {
   "cell_type": "code",
   "execution_count": 23,
   "id": "402e2f54",
   "metadata": {},
   "outputs": [],
   "source": [
    "# Training function\n",
    "def train_model(model, criterion, optimizer, num_epochs=100):  # Set epochs to 100\n",
    "    model.train()\n",
    "    for epoch in range(num_epochs):\n",
    "        for inputs, labels in train_loader:\n",
    "            inputs = inputs.repeat(1, 3, 1, 1).to(device)\n",
    "            labels = labels.to(device)\n",
    "\n",
    "            optimizer.zero_grad()\n",
    "            outputs = model(inputs)\n",
    "            loss = criterion(outputs, labels)\n",
    "            loss.backward()\n",
    "            optimizer.step()\n",
    "    return model"
   ]
  },
  {
   "cell_type": "code",
   "execution_count": 24,
   "id": "22ab1ab5",
   "metadata": {},
   "outputs": [],
   "source": [
    "# Train the AlexNet model\n",
    "criterion = nn.CrossEntropyLoss()\n",
    "optimizer = optim.SGD(model_ft.parameters(), lr=0.001, momentum=0.9)\n",
    "model_ft = train_model(model_ft, criterion, optimizer, num_epochs=100)\n"
   ]
  },
  {
   "cell_type": "code",
   "execution_count": 25,
   "id": "df50a2cf",
   "metadata": {},
   "outputs": [
    {
     "name": "stdout",
     "output_type": "stream",
     "text": [
      "AlexNet Test Accuracy: 0.7290\n"
     ]
    }
   ],
   "source": [
    "# Evaluate AlexNet\n",
    "def evaluate_model(model, loader):\n",
    "    model.eval()\n",
    "    correct = 0\n",
    "    total = 0\n",
    "    with torch.no_grad():\n",
    "        for inputs, labels in loader:\n",
    "            inputs = inputs.repeat(1, 3, 1, 1).to(device)\n",
    "            labels = labels.to(device)\n",
    "            outputs = model(inputs)\n",
    "            _, predicted = torch.max(outputs, 1)\n",
    "            total += labels.size(0)\n",
    "            correct += (predicted == labels).sum().item()\n",
    "    return correct / total\n",
    "\n",
    "alexnet_accuracy = evaluate_model(model_ft, test_loader)\n",
    "print(f'AlexNet Test Accuracy: {alexnet_accuracy:.4f}')"
   ]
  },
  {
   "cell_type": "code",
   "execution_count": 26,
   "id": "616ff2a7",
   "metadata": {},
   "outputs": [
    {
     "name": "stdout",
     "output_type": "stream",
     "text": [
      "The model with the highest accuracy is: AlexNet with accuracy 0.7290\n"
     ]
    }
   ],
   "source": [
    "# Compare accuracies and find the best model\n",
    "accuracies = {\n",
    "    \"KNN\": knn_accuracy,\n",
    "    \"SVM\": svm_accuracy,\n",
    "    \"AlexNet\": alexnet_accuracy\n",
    "}\n",
    "best_model = max(accuracies, key=accuracies.get)\n",
    "print(f\"The model with the highest accuracy is: {best_model} with accuracy {accuracies[best_model]:.4f}\")"
   ]
  },
  {
   "cell_type": "code",
   "execution_count": null,
   "id": "55add4b6",
   "metadata": {},
   "outputs": [],
   "source": [
    "\n",
    "\n",
    "#Prediction for KNN\n",
    "def predict_knn(image_path):\n",
    "    image = Image.open(image_path).convert('L')\n",
    "    image = data_transform(image).numpy().flatten()\n",
    "    knn_prediction = knn.predict([image])\n",
    "    return knn_prediction[0]\n",
    "\n",
    "\n",
    "\n",
    "\n",
    "\n",
    "\n",
    "\n",
    "\n"
   ]
  },
  {
   "cell_type": "code",
   "execution_count": 62,
   "id": "02da2b72",
   "metadata": {},
   "outputs": [],
   "source": [
    "\n",
    "# Prediction for SVM\n",
    "#def predict_svm(image_path):\n",
    " #   image = Image.open(image_path).convert('L')\n",
    "  #  image = data_transform(image).numpy().flatten()\n",
    "   # svm_prediction = svm.predict([image])\n",
    "    #return svm_prediction[0]\n",
    "    \n",
    "def predict_svm(image_path):\n",
    "    image = Image.open(image_path).convert('L')  # Load the image and convert to grayscale (1 channel)\n",
    "    image = data_transform(image)  # Apply transformations (resize to 64x64)\n",
    "    image = image.view(1, -1).cpu().numpy()  # Flatten the image (64x64 -> 4096 features)\n",
    "    svm_prediction = svm.predict(image)  # Predict using the trained SVM\n",
    "    return svm_prediction[0]\n"
   ]
  },
  {
   "cell_type": "code",
   "execution_count": 29,
   "id": "ae3d52dd",
   "metadata": {},
   "outputs": [],
   "source": [
    "# Prediction for AlexNet\n",
    "def predict_alexnet(image_path, model, device):\n",
    "    preprocess = transforms.Compose([\n",
    "        transforms.Resize(256),\n",
    "        transforms.CenterCrop(224),\n",
    "        transforms.ToTensor(),\n",
    "        transforms.Normalize(mean=[0.485, 0.456, 0.406], std=[0.229, 0.224, 0.225]),\n",
    "    ])\n",
    "    image = Image.open(image_path).convert('RGB')\n",
    "    image = preprocess(image).unsqueeze(0).to(device)\n",
    "    with torch.no_grad():\n",
    "        outputs = model(image)\n",
    "    _, preds = torch.max(outputs, 1)\n",
    "    return preds.item()"
   ]
  },
  {
   "cell_type": "code",
   "execution_count": null,
   "id": "ca8c1c10",
   "metadata": {},
   "outputs": [],
   "source": [
    "# Function to get the final prediction using majority voting\n",
    "def majority_voting(image_path, model_ft, device):\n",
    "    knn_pred = predict_knn(image_path)\n",
    "    svm_pred = predict_svm(image_path)\n",
    "    alexnet_pred = predict_alexnet(image_path, model_ft, device)\n",
    "   \n",
    "    predictions = [knn_pred, svm_pred, alexnet_pred]\n",
    "    most_common_prediction = Counter(predictions).most_common(1)[0][0]\n",
    "    return label_map[most_common_prediction]\n",
    "\n",
    "\n"
   ]
  },
  {
   "cell_type": "code",
   "execution_count": 105,
   "id": "8148a6ee",
   "metadata": {},
   "outputs": [],
   "source": [
    "image_path = \"D:\\\\srishti\\\\train-pox-detector-main\\\\train-pox-detector-main\\\\measles03.jpg\"\n",
    "import cv2\n",
    "img = cv2.imread(image_path, cv2.IMREAD_COLOR)\n",
    "img_loader = DataLoader(img, batch_size=1, shuffle=True)\n",
    "features = []\n",
    "#images = images.repeat(1, 3, 1, 1)  # Convert grayscale to 3 channels\n",
    "#features.append(images.view(images.size(0), -1).cpu().numpy())  # Flatten\n",
    "#np.vstack(features)\n",
    "for images in img_loader:\n",
    "    images = images.repeat(1, 3, 1, 1)  # Convert grayscale to 3 channels\n",
    "    features.append(images.view(images.size(0), -1).cpu().numpy())  # Flatten\n",
    "sample=np.vstack(features)\n"
   ]
  },
  {
   "cell_type": "code",
   "execution_count": 89,
   "id": "0152a550",
   "metadata": {},
   "outputs": [
    {
     "data": {
      "text/plain": [
       "168"
      ]
     },
     "execution_count": 89,
     "metadata": {},
     "output_type": "execute_result"
    }
   ],
   "source": [
    "len(sample)"
   ]
  },
  {
   "cell_type": "code",
   "execution_count": 67,
   "id": "a6cf94d7",
   "metadata": {},
   "outputs": [
    {
     "data": {
      "text/plain": [
       "4096"
      ]
     },
     "execution_count": 67,
     "metadata": {},
     "output_type": "execute_result"
    }
   ],
   "source": [
    "len(X_train[0])"
   ]
  },
  {
   "cell_type": "code",
   "execution_count": 71,
   "id": "8a64ffdf",
   "metadata": {},
   "outputs": [
    {
     "ename": "ValueError",
     "evalue": "X has 4096 features, but SVC is expecting 12288 features as input.",
     "output_type": "error",
     "traceback": [
      "\u001b[1;31m---------------------------------------------------------------------------\u001b[0m",
      "\u001b[1;31mValueError\u001b[0m                                Traceback (most recent call last)",
      "Cell \u001b[1;32mIn[71], line 3\u001b[0m\n\u001b[0;32m      1\u001b[0m \u001b[38;5;66;03m# Final prediction\u001b[39;00m\n\u001b[0;32m      2\u001b[0m image_path \u001b[38;5;241m=\u001b[39m \u001b[38;5;124m\"\u001b[39m\u001b[38;5;124mD:\u001b[39m\u001b[38;5;130;01m\\\\\u001b[39;00m\u001b[38;5;124msrishti\u001b[39m\u001b[38;5;130;01m\\\\\u001b[39;00m\u001b[38;5;124mtrain-pox-detector-main\u001b[39m\u001b[38;5;130;01m\\\\\u001b[39;00m\u001b[38;5;124mtrain-pox-detector-main\u001b[39m\u001b[38;5;130;01m\\\\\u001b[39;00m\u001b[38;5;124mmeasles03.jpg\u001b[39m\u001b[38;5;124m\"\u001b[39m\n\u001b[1;32m----> 3\u001b[0m final_prediction \u001b[38;5;241m=\u001b[39m \u001b[43mmajority_voting\u001b[49m\u001b[43m(\u001b[49m\u001b[43mimage_path\u001b[49m\u001b[43m,\u001b[49m\u001b[43m \u001b[49m\u001b[43mmodel_ft\u001b[49m\u001b[43m,\u001b[49m\u001b[43m \u001b[49m\u001b[43mdevice\u001b[49m\u001b[43m)\u001b[49m\n\u001b[0;32m      4\u001b[0m \u001b[38;5;28mprint\u001b[39m(\u001b[38;5;124mf\u001b[39m\u001b[38;5;124m\"\u001b[39m\u001b[38;5;124mThe final predicted disease by majority voting is: \u001b[39m\u001b[38;5;132;01m{\u001b[39;00mfinal_prediction\u001b[38;5;132;01m}\u001b[39;00m\u001b[38;5;124m\"\u001b[39m)\n",
      "Cell \u001b[1;32mIn[32], line 4\u001b[0m, in \u001b[0;36mmajority_voting\u001b[1;34m(image_path, model_ft, device)\u001b[0m\n\u001b[0;32m      2\u001b[0m \u001b[38;5;28;01mdef\u001b[39;00m \u001b[38;5;21mmajority_voting\u001b[39m(image_path, model_ft, device):\n\u001b[0;32m      3\u001b[0m     \u001b[38;5;66;03m#knn_pred = predict_knn(image_path)\u001b[39;00m\n\u001b[1;32m----> 4\u001b[0m     svm_pred \u001b[38;5;241m=\u001b[39m \u001b[43mpredict_svm\u001b[49m\u001b[43m(\u001b[49m\u001b[43mimage_path\u001b[49m\u001b[43m)\u001b[49m\n\u001b[0;32m      5\u001b[0m     alexnet_pred \u001b[38;5;241m=\u001b[39m predict_alexnet(image_path, model_ft, device)\n\u001b[0;32m      7\u001b[0m     predictions \u001b[38;5;241m=\u001b[39m [knn_pred, svm_pred, alexnet_pred]\n",
      "Cell \u001b[1;32mIn[62], line 12\u001b[0m, in \u001b[0;36mpredict_svm\u001b[1;34m(image_path)\u001b[0m\n\u001b[0;32m     10\u001b[0m image \u001b[38;5;241m=\u001b[39m data_transform(image)  \u001b[38;5;66;03m# Apply transformations (resize to 64x64)\u001b[39;00m\n\u001b[0;32m     11\u001b[0m image \u001b[38;5;241m=\u001b[39m image\u001b[38;5;241m.\u001b[39mview(\u001b[38;5;241m1\u001b[39m, \u001b[38;5;241m-\u001b[39m\u001b[38;5;241m1\u001b[39m)\u001b[38;5;241m.\u001b[39mcpu()\u001b[38;5;241m.\u001b[39mnumpy()  \u001b[38;5;66;03m# Flatten the image (64x64 -> 4096 features)\u001b[39;00m\n\u001b[1;32m---> 12\u001b[0m svm_prediction \u001b[38;5;241m=\u001b[39m \u001b[43msvm\u001b[49m\u001b[38;5;241;43m.\u001b[39;49m\u001b[43mpredict\u001b[49m\u001b[43m(\u001b[49m\u001b[43mimage\u001b[49m\u001b[43m)\u001b[49m  \u001b[38;5;66;03m# Predict using the trained SVM\u001b[39;00m\n\u001b[0;32m     13\u001b[0m \u001b[38;5;28;01mreturn\u001b[39;00m svm_prediction[\u001b[38;5;241m0\u001b[39m]\n",
      "File \u001b[1;32m~\\AppData\\Roaming\\Python\\Python312\\site-packages\\sklearn\\svm\\_base.py:813\u001b[0m, in \u001b[0;36mBaseSVC.predict\u001b[1;34m(self, X)\u001b[0m\n\u001b[0;32m    811\u001b[0m     y \u001b[38;5;241m=\u001b[39m np\u001b[38;5;241m.\u001b[39margmax(\u001b[38;5;28mself\u001b[39m\u001b[38;5;241m.\u001b[39mdecision_function(X), axis\u001b[38;5;241m=\u001b[39m\u001b[38;5;241m1\u001b[39m)\n\u001b[0;32m    812\u001b[0m \u001b[38;5;28;01melse\u001b[39;00m:\n\u001b[1;32m--> 813\u001b[0m     y \u001b[38;5;241m=\u001b[39m \u001b[38;5;28;43msuper\u001b[39;49m\u001b[43m(\u001b[49m\u001b[43m)\u001b[49m\u001b[38;5;241;43m.\u001b[39;49m\u001b[43mpredict\u001b[49m\u001b[43m(\u001b[49m\u001b[43mX\u001b[49m\u001b[43m)\u001b[49m\n\u001b[0;32m    814\u001b[0m \u001b[38;5;28;01mreturn\u001b[39;00m \u001b[38;5;28mself\u001b[39m\u001b[38;5;241m.\u001b[39mclasses_\u001b[38;5;241m.\u001b[39mtake(np\u001b[38;5;241m.\u001b[39masarray(y, dtype\u001b[38;5;241m=\u001b[39mnp\u001b[38;5;241m.\u001b[39mintp))\n",
      "File \u001b[1;32m~\\AppData\\Roaming\\Python\\Python312\\site-packages\\sklearn\\svm\\_base.py:428\u001b[0m, in \u001b[0;36mBaseLibSVM.predict\u001b[1;34m(self, X)\u001b[0m\n\u001b[0;32m    412\u001b[0m \u001b[38;5;28;01mdef\u001b[39;00m \u001b[38;5;21mpredict\u001b[39m(\u001b[38;5;28mself\u001b[39m, X):\n\u001b[0;32m    413\u001b[0m \u001b[38;5;250m    \u001b[39m\u001b[38;5;124;03m\"\"\"Perform regression on samples in X.\u001b[39;00m\n\u001b[0;32m    414\u001b[0m \n\u001b[0;32m    415\u001b[0m \u001b[38;5;124;03m    For an one-class model, +1 (inlier) or -1 (outlier) is returned.\u001b[39;00m\n\u001b[1;32m   (...)\u001b[0m\n\u001b[0;32m    426\u001b[0m \u001b[38;5;124;03m        The predicted values.\u001b[39;00m\n\u001b[0;32m    427\u001b[0m \u001b[38;5;124;03m    \"\"\"\u001b[39;00m\n\u001b[1;32m--> 428\u001b[0m     X \u001b[38;5;241m=\u001b[39m \u001b[38;5;28;43mself\u001b[39;49m\u001b[38;5;241;43m.\u001b[39;49m\u001b[43m_validate_for_predict\u001b[49m\u001b[43m(\u001b[49m\u001b[43mX\u001b[49m\u001b[43m)\u001b[49m\n\u001b[0;32m    429\u001b[0m     predict \u001b[38;5;241m=\u001b[39m \u001b[38;5;28mself\u001b[39m\u001b[38;5;241m.\u001b[39m_sparse_predict \u001b[38;5;28;01mif\u001b[39;00m \u001b[38;5;28mself\u001b[39m\u001b[38;5;241m.\u001b[39m_sparse \u001b[38;5;28;01melse\u001b[39;00m \u001b[38;5;28mself\u001b[39m\u001b[38;5;241m.\u001b[39m_dense_predict\n\u001b[0;32m    430\u001b[0m     \u001b[38;5;28;01mreturn\u001b[39;00m predict(X)\n",
      "File \u001b[1;32m~\\AppData\\Roaming\\Python\\Python312\\site-packages\\sklearn\\svm\\_base.py:606\u001b[0m, in \u001b[0;36mBaseLibSVM._validate_for_predict\u001b[1;34m(self, X)\u001b[0m\n\u001b[0;32m    603\u001b[0m check_is_fitted(\u001b[38;5;28mself\u001b[39m)\n\u001b[0;32m    605\u001b[0m \u001b[38;5;28;01mif\u001b[39;00m \u001b[38;5;129;01mnot\u001b[39;00m \u001b[38;5;28mcallable\u001b[39m(\u001b[38;5;28mself\u001b[39m\u001b[38;5;241m.\u001b[39mkernel):\n\u001b[1;32m--> 606\u001b[0m     X \u001b[38;5;241m=\u001b[39m \u001b[38;5;28;43mself\u001b[39;49m\u001b[38;5;241;43m.\u001b[39;49m\u001b[43m_validate_data\u001b[49m\u001b[43m(\u001b[49m\n\u001b[0;32m    607\u001b[0m \u001b[43m        \u001b[49m\u001b[43mX\u001b[49m\u001b[43m,\u001b[49m\n\u001b[0;32m    608\u001b[0m \u001b[43m        \u001b[49m\u001b[43maccept_sparse\u001b[49m\u001b[38;5;241;43m=\u001b[39;49m\u001b[38;5;124;43m\"\u001b[39;49m\u001b[38;5;124;43mcsr\u001b[39;49m\u001b[38;5;124;43m\"\u001b[39;49m\u001b[43m,\u001b[49m\n\u001b[0;32m    609\u001b[0m \u001b[43m        \u001b[49m\u001b[43mdtype\u001b[49m\u001b[38;5;241;43m=\u001b[39;49m\u001b[43mnp\u001b[49m\u001b[38;5;241;43m.\u001b[39;49m\u001b[43mfloat64\u001b[49m\u001b[43m,\u001b[49m\n\u001b[0;32m    610\u001b[0m \u001b[43m        \u001b[49m\u001b[43morder\u001b[49m\u001b[38;5;241;43m=\u001b[39;49m\u001b[38;5;124;43m\"\u001b[39;49m\u001b[38;5;124;43mC\u001b[39;49m\u001b[38;5;124;43m\"\u001b[39;49m\u001b[43m,\u001b[49m\n\u001b[0;32m    611\u001b[0m \u001b[43m        \u001b[49m\u001b[43maccept_large_sparse\u001b[49m\u001b[38;5;241;43m=\u001b[39;49m\u001b[38;5;28;43;01mFalse\u001b[39;49;00m\u001b[43m,\u001b[49m\n\u001b[0;32m    612\u001b[0m \u001b[43m        \u001b[49m\u001b[43mreset\u001b[49m\u001b[38;5;241;43m=\u001b[39;49m\u001b[38;5;28;43;01mFalse\u001b[39;49;00m\u001b[43m,\u001b[49m\n\u001b[0;32m    613\u001b[0m \u001b[43m    \u001b[49m\u001b[43m)\u001b[49m\n\u001b[0;32m    615\u001b[0m \u001b[38;5;28;01mif\u001b[39;00m \u001b[38;5;28mself\u001b[39m\u001b[38;5;241m.\u001b[39m_sparse \u001b[38;5;129;01mand\u001b[39;00m \u001b[38;5;129;01mnot\u001b[39;00m sp\u001b[38;5;241m.\u001b[39missparse(X):\n\u001b[0;32m    616\u001b[0m     X \u001b[38;5;241m=\u001b[39m sp\u001b[38;5;241m.\u001b[39mcsr_matrix(X)\n",
      "File \u001b[1;32m~\\AppData\\Roaming\\Python\\Python312\\site-packages\\sklearn\\base.py:654\u001b[0m, in \u001b[0;36mBaseEstimator._validate_data\u001b[1;34m(self, X, y, reset, validate_separately, cast_to_ndarray, **check_params)\u001b[0m\n\u001b[0;32m    651\u001b[0m     out \u001b[38;5;241m=\u001b[39m X, y\n\u001b[0;32m    653\u001b[0m \u001b[38;5;28;01mif\u001b[39;00m \u001b[38;5;129;01mnot\u001b[39;00m no_val_X \u001b[38;5;129;01mand\u001b[39;00m check_params\u001b[38;5;241m.\u001b[39mget(\u001b[38;5;124m\"\u001b[39m\u001b[38;5;124mensure_2d\u001b[39m\u001b[38;5;124m\"\u001b[39m, \u001b[38;5;28;01mTrue\u001b[39;00m):\n\u001b[1;32m--> 654\u001b[0m     \u001b[38;5;28;43mself\u001b[39;49m\u001b[38;5;241;43m.\u001b[39;49m\u001b[43m_check_n_features\u001b[49m\u001b[43m(\u001b[49m\u001b[43mX\u001b[49m\u001b[43m,\u001b[49m\u001b[43m \u001b[49m\u001b[43mreset\u001b[49m\u001b[38;5;241;43m=\u001b[39;49m\u001b[43mreset\u001b[49m\u001b[43m)\u001b[49m\n\u001b[0;32m    656\u001b[0m \u001b[38;5;28;01mreturn\u001b[39;00m out\n",
      "File \u001b[1;32m~\\AppData\\Roaming\\Python\\Python312\\site-packages\\sklearn\\base.py:443\u001b[0m, in \u001b[0;36mBaseEstimator._check_n_features\u001b[1;34m(self, X, reset)\u001b[0m\n\u001b[0;32m    440\u001b[0m     \u001b[38;5;28;01mreturn\u001b[39;00m\n\u001b[0;32m    442\u001b[0m \u001b[38;5;28;01mif\u001b[39;00m n_features \u001b[38;5;241m!=\u001b[39m \u001b[38;5;28mself\u001b[39m\u001b[38;5;241m.\u001b[39mn_features_in_:\n\u001b[1;32m--> 443\u001b[0m     \u001b[38;5;28;01mraise\u001b[39;00m \u001b[38;5;167;01mValueError\u001b[39;00m(\n\u001b[0;32m    444\u001b[0m         \u001b[38;5;124mf\u001b[39m\u001b[38;5;124m\"\u001b[39m\u001b[38;5;124mX has \u001b[39m\u001b[38;5;132;01m{\u001b[39;00mn_features\u001b[38;5;132;01m}\u001b[39;00m\u001b[38;5;124m features, but \u001b[39m\u001b[38;5;132;01m{\u001b[39;00m\u001b[38;5;28mself\u001b[39m\u001b[38;5;241m.\u001b[39m\u001b[38;5;18m__class__\u001b[39m\u001b[38;5;241m.\u001b[39m\u001b[38;5;18m__name__\u001b[39m\u001b[38;5;132;01m}\u001b[39;00m\u001b[38;5;124m \u001b[39m\u001b[38;5;124m\"\u001b[39m\n\u001b[0;32m    445\u001b[0m         \u001b[38;5;124mf\u001b[39m\u001b[38;5;124m\"\u001b[39m\u001b[38;5;124mis expecting \u001b[39m\u001b[38;5;132;01m{\u001b[39;00m\u001b[38;5;28mself\u001b[39m\u001b[38;5;241m.\u001b[39mn_features_in_\u001b[38;5;132;01m}\u001b[39;00m\u001b[38;5;124m features as input.\u001b[39m\u001b[38;5;124m\"\u001b[39m\n\u001b[0;32m    446\u001b[0m     )\n",
      "\u001b[1;31mValueError\u001b[0m: X has 4096 features, but SVC is expecting 12288 features as input."
     ]
    }
   ],
   "source": [
    "# Final prediction\n",
    "image_path = \"D:\\\\srishti\\\\train-pox-detector-main\\\\train-pox-detector-main\\\\measles03.jpg\"\n",
    "final_prediction = majority_voting(image_path, model_ft, device)\n",
    "print(f\"The final predicted disease by majority voting is: {final_prediction}\")\n"
   ]
  }
 ],
 "metadata": {
  "kernelspec": {
   "display_name": "Python 3",
   "language": "python",
   "name": "python3"
  },
  "language_info": {
   "codemirror_mode": {
    "name": "ipython",
    "version": 3
   },
   "file_extension": ".py",
   "mimetype": "text/x-python",
   "name": "python",
   "nbconvert_exporter": "python",
   "pygments_lexer": "ipython3",
   "version": "3.12.3"
  }
 },
 "nbformat": 4,
 "nbformat_minor": 5
}
